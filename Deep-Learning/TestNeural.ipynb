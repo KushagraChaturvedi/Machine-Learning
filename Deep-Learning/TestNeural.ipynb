{
 "cells": [
  {
   "cell_type": "code",
   "execution_count": 8,
   "id": "659bb370",
   "metadata": {},
   "outputs": [],
   "source": [
    "import numpy as np\n",
    "import matplotlib.pyplot as plt\n",
    "import pandas as pd"
   ]
  },
  {
   "cell_type": "code",
   "execution_count": 34,
   "id": "05df08c1",
   "metadata": {},
   "outputs": [],
   "source": [
    "from Dense import Layer\n",
    "from Activation import *"
   ]
  },
  {
   "cell_type": "code",
   "execution_count": 28,
   "id": "254c289e",
   "metadata": {},
   "outputs": [
    {
     "data": {
      "text/plain": [
       "(array([ 1.4843209 , -1.27457787,  0.16531557]),\n",
       " array([-1.4843209 ,  1.27457787, -0.16531557]))"
      ]
     },
     "execution_count": 28,
     "metadata": {},
     "output_type": "execute_result"
    }
   ],
   "source": [
    "-L1_Output, L1_Output"
   ]
  },
  {
   "cell_type": "code",
   "execution_count": 18,
   "id": "13898162",
   "metadata": {},
   "outputs": [],
   "source": [
    "X = [[1, 2],\n",
    "         [2, 4],\n",
    "         [3, 6],\n",
    "         [4, 8],\n",
    "         [5, 10],\n",
    "         [6, 12]]"
   ]
  },
  {
   "cell_type": "code",
   "execution_count": 19,
   "id": "c2b8dca3",
   "metadata": {},
   "outputs": [
    {
     "data": {
      "text/plain": [
       "array([[-0.45777383, -1.01327353],\n",
       "       [ 0.05403165,  0.11027311],\n",
       "       [-0.2155336 , -0.47489098]])"
      ]
     },
     "execution_count": 19,
     "metadata": {},
     "output_type": "execute_result"
    }
   ],
   "source": [
    "L1 = Layer(3, 2)\n",
    "L1.weights"
   ]
  },
  {
   "cell_type": "code",
   "execution_count": 20,
   "id": "ebb3fe79",
   "metadata": {},
   "outputs": [],
   "source": [
    "L1_Output = L1.forward(X[0])"
   ]
  },
  {
   "cell_type": "code",
   "execution_count": 21,
   "id": "06a856f9",
   "metadata": {},
   "outputs": [
    {
     "data": {
      "text/plain": [
       "array([-1.4843209 ,  1.27457787, -0.16531557])"
      ]
     },
     "execution_count": 21,
     "metadata": {},
     "output_type": "execute_result"
    }
   ],
   "source": [
    "L1_Output "
   ]
  },
  {
   "cell_type": "code",
   "execution_count": 33,
   "id": "cc57773c",
   "metadata": {},
   "outputs": [
    {
     "data": {
      "text/plain": [
       "array([5.41196823, 1.27954895, 2.17976535])"
      ]
     },
     "execution_count": 33,
     "metadata": {},
     "output_type": "execute_result"
    }
   ],
   "source": [
    "A = Activation_Sigmoid\n",
    "A.forward(L1_Output)"
   ]
  }
 ],
 "metadata": {
  "kernelspec": {
   "display_name": "Python 3 (ipykernel)",
   "language": "python",
   "name": "python3"
  },
  "language_info": {
   "codemirror_mode": {
    "name": "ipython",
    "version": 3
   },
   "file_extension": ".py",
   "mimetype": "text/x-python",
   "name": "python",
   "nbconvert_exporter": "python",
   "pygments_lexer": "ipython3",
   "version": "3.10.7"
  }
 },
 "nbformat": 4,
 "nbformat_minor": 5
}
